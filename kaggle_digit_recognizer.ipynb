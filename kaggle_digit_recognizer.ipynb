{
  "nbformat": 4,
  "nbformat_minor": 0,
  "metadata": {
    "colab": {
      "name": "kaggle-digit-recognizer.ipynb",
      "provenance": []
    },
    "kernelspec": {
      "name": "python3",
      "display_name": "Python 3"
    },
    "accelerator": "GPU"
  },
  "cells": [
    {
      "cell_type": "code",
      "metadata": {
        "id": "RhlXw-q_GmtY",
        "outputId": "fac1bcfa-edca-436b-dc7c-cab7a74adb85",
        "colab": {
          "base_uri": "https://localhost:8080/",
          "height": 33
        }
      },
      "source": [
        "from google.colab import drive\n",
        "drive.mount('/content/drive', force_remount=True)\n",
        "\n"
      ],
      "execution_count": 1,
      "outputs": [
        {
          "output_type": "stream",
          "text": [
            "Mounted at /content/drive\n"
          ],
          "name": "stdout"
        }
      ]
    },
    {
      "cell_type": "code",
      "metadata": {
        "id": "50BxdQ8RiqUM",
        "outputId": "0024116b-a580-4471-f6a1-7723e4d86cfc",
        "colab": {
          "base_uri": "https://localhost:8080/",
          "height": 33
        }
      },
      "source": [
        "%cd /content/drive/My Drive/digit-recog/\n"
      ],
      "execution_count": 2,
      "outputs": [
        {
          "output_type": "stream",
          "text": [
            "/content/drive/My Drive/digit-recog\n"
          ],
          "name": "stdout"
        }
      ]
    },
    {
      "cell_type": "code",
      "metadata": {
        "id": "ySw6x8y8OTgH",
        "outputId": "11c58154-7531-469f-e330-8534dba2578e",
        "colab": {
          "base_uri": "https://localhost:8080/",
          "height": 338
        }
      },
      "source": [
        "#File management\n",
        "\n",
        "!pip install ipython-autotime\n",
        "%load_ext autotime\n",
        "\n",
        "from IPython.display import clear_output\n"
      ],
      "execution_count": 3,
      "outputs": [
        {
          "output_type": "stream",
          "text": [
            "Collecting ipython-autotime\n",
            "  Downloading https://files.pythonhosted.org/packages/3f/58/a4a65efcce5c81a67b6893ade862736de355a3a718af5533d30c991831ce/ipython_autotime-0.2.0-py2.py3-none-any.whl\n",
            "Requirement already satisfied: ipython in /usr/local/lib/python3.6/dist-packages (from ipython-autotime) (5.5.0)\n",
            "Requirement already satisfied: pickleshare in /usr/local/lib/python3.6/dist-packages (from ipython->ipython-autotime) (0.7.5)\n",
            "Requirement already satisfied: simplegeneric>0.8 in /usr/local/lib/python3.6/dist-packages (from ipython->ipython-autotime) (0.8.1)\n",
            "Requirement already satisfied: pexpect; sys_platform != \"win32\" in /usr/local/lib/python3.6/dist-packages (from ipython->ipython-autotime) (4.8.0)\n",
            "Requirement already satisfied: prompt-toolkit<2.0.0,>=1.0.4 in /usr/local/lib/python3.6/dist-packages (from ipython->ipython-autotime) (1.0.18)\n",
            "Requirement already satisfied: decorator in /usr/local/lib/python3.6/dist-packages (from ipython->ipython-autotime) (4.4.2)\n",
            "Requirement already satisfied: setuptools>=18.5 in /usr/local/lib/python3.6/dist-packages (from ipython->ipython-autotime) (50.3.0)\n",
            "Requirement already satisfied: pygments in /usr/local/lib/python3.6/dist-packages (from ipython->ipython-autotime) (2.6.1)\n",
            "Requirement already satisfied: traitlets>=4.2 in /usr/local/lib/python3.6/dist-packages (from ipython->ipython-autotime) (4.3.3)\n",
            "Requirement already satisfied: ptyprocess>=0.5 in /usr/local/lib/python3.6/dist-packages (from pexpect; sys_platform != \"win32\"->ipython->ipython-autotime) (0.6.0)\n",
            "Requirement already satisfied: six>=1.9.0 in /usr/local/lib/python3.6/dist-packages (from prompt-toolkit<2.0.0,>=1.0.4->ipython->ipython-autotime) (1.15.0)\n",
            "Requirement already satisfied: wcwidth in /usr/local/lib/python3.6/dist-packages (from prompt-toolkit<2.0.0,>=1.0.4->ipython->ipython-autotime) (0.2.5)\n",
            "Requirement already satisfied: ipython-genutils in /usr/local/lib/python3.6/dist-packages (from traitlets>=4.2->ipython->ipython-autotime) (0.2.0)\n",
            "Installing collected packages: ipython-autotime\n",
            "Successfully installed ipython-autotime-0.2.0\n",
            "time: 164 µs\n"
          ],
          "name": "stdout"
        }
      ]
    },
    {
      "cell_type": "code",
      "metadata": {
        "id": "scxxdW4uOEbD",
        "outputId": "14f64047-b71c-4e2b-f771-2317988ff5d9",
        "colab": {
          "base_uri": "https://localhost:8080/",
          "height": 33
        }
      },
      "source": [
        "#Import lib\n",
        "\n",
        "import pandas as pd\n",
        "import numpy as np\n",
        "\n",
        "import matplotlib.pyplot as plt\n",
        "import matplotlib.image as mpimg\n",
        "%matplotlib inline\n",
        "from sklearn.model_selection import train_test_split\n",
        "from keras.utils.np_utils import to_categorical \n",
        "from keras.models import Sequential, Model\n",
        "from keras.layers import Dense, Dropout, Flatten, Conv2D, MaxPool2D, BatchNormalization, Input,GlobalAveragePooling2D, Lambda\n",
        "from keras.layers.experimental.preprocessing import Resizing\n",
        "from keras.optimizers import RMSprop, Adam\n",
        "from keras.preprocessing.image import ImageDataGenerator\n",
        "from keras.callbacks import ReduceLROnPlateau, ModelCheckpoint\n",
        "import keras.backend as k\n",
        "from tensorflow.image import grayscale_to_rgb, resize\n"
      ],
      "execution_count": 4,
      "outputs": [
        {
          "output_type": "stream",
          "text": [
            "time: 2.18 s\n"
          ],
          "name": "stdout"
        }
      ]
    },
    {
      "cell_type": "code",
      "metadata": {
        "id": "MhTCgTDSRvq-",
        "outputId": "d765bbdf-841d-443b-ee06-8bb216bc9742",
        "colab": {
          "base_uri": "https://localhost:8080/",
          "height": 536
        }
      },
      "source": [
        "#Data prep\n",
        "\n",
        "train = pd.read_csv('train.csv')\n",
        "test = pd.read_csv('test.csv')\n",
        "\n",
        "y_train = train['label']\n",
        "\n",
        "X_train = train.drop(labels = ['label'],axis = 1)\n",
        "X_test = test\n",
        "\n",
        "del train\n",
        "del test\n",
        "\n",
        "X_train_shape = X_train.shape\n",
        "y_train_shape = y_train.shape\n",
        "X_test_shape = X_test.shape\n",
        "\n",
        "nbr_train = X_train_shape[0]\n",
        "nbr_pixel = X_train_shape[1]\n",
        "img_size = int(np.sqrt(nbr_pixel))\n",
        "nbr_test = X_test_shape[0]\n",
        "\n",
        "print('Number of train image: '+ str(nbr_train))\n",
        "print('Number of test image: '+ str(nbr_test))\n",
        "print('Image size: (' + str(img_size) + ',' + str(img_size) + ')')\n",
        "\n",
        "train_any_null = X_train.isnull().any().any()\n",
        "test_any_null = X_test.isnull().any().any()\n",
        "\n",
        "print('Null in train set status: ' + str(train_any_null))\n",
        "print('Null in test set status: ' + str(test_any_null))\n",
        "\n",
        "X_train = X_train / 255.0\n",
        "X_test = X_test / 255.0\n",
        "\n",
        "print('----Before reshape----')\n",
        "print('Xtrain shape:' + str(X_train.shape))\n",
        "print('Xtest shape:' + str(X_test.shape))\n",
        "print('---------------------')\n",
        "\n",
        "X_train = X_train.values.reshape(-1,img_size,img_size,1)\n",
        "X_test = X_test.values.reshape(-1,img_size,img_size,1)\n",
        "\n",
        "print('----After reshape----')\n",
        "print('Xtrain shape:' + str(X_train.shape))\n",
        "print('Xtest shape:' + str(X_test.shape))\n",
        "\n",
        "print(y_train[0:1])\n",
        "y_train = to_categorical(y_train, num_classes = 10)\n",
        "print(y_train[0:1,:])\n",
        "\n",
        "fig = plt.figure(figsize=(4,4))\n",
        "\n",
        "for i in range(6):\n",
        "    fig.add_subplot(2,3,i+1)\n",
        "    plt.imshow(X_train[i,:,:,0])\n",
        "    \n",
        "plt.show()\n",
        "\n",
        "X_train, X_val, y_train, y_val = train_test_split(X_train, y_train, test_size = 0.1, random_state = 2)\n",
        "print('Number of train data: ' + str(X_train.shape[0]))\n",
        "print('Number of validate data: ' + str(X_val.shape[0]))"
      ],
      "execution_count": 5,
      "outputs": [
        {
          "output_type": "stream",
          "text": [
            "Number of train image: 42000\n",
            "Number of test image: 28000\n",
            "Image size: (28,28)\n",
            "Null in train set status: False\n",
            "Null in test set status: False\n",
            "----Before reshape----\n",
            "Xtrain shape:(42000, 784)\n",
            "Xtest shape:(28000, 784)\n",
            "---------------------\n",
            "----After reshape----\n",
            "Xtrain shape:(42000, 28, 28, 1)\n",
            "Xtest shape:(28000, 28, 28, 1)\n",
            "0    1\n",
            "Name: label, dtype: int64\n",
            "[[0. 1. 0. 0. 0. 0. 0. 0. 0. 0.]]\n"
          ],
          "name": "stdout"
        },
        {
          "output_type": "display_data",
          "data": {
            "image/png": "[encoded data removed]",
            "text/plain": [
              "<Figure size 288x288 with 6 Axes>"
            ]
          },
          "metadata": {
            "tags": [],
            "needs_background": "light"
          }
        },
        {
          "output_type": "stream",
          "text": [
            "Number of train data: 37800\n",
            "Number of validate data: 4200\n",
            "time: 8.95 s\n"
          ],
          "name": "stdout"
        }
      ]
    },
    {
      "cell_type": "code",
      "metadata": {
        "id": "DuRUm8bPU8u4",
        "outputId": "1bc021a3-cb24-437c-b528-f9f281b5012f",
        "colab": {
          "base_uri": "https://localhost:8080/",
          "height": 33
        }
      },
      "source": [
        "datagen = ImageDataGenerator(\n",
        "        featurewise_center=False,  # set input mean to 0 over the dataset\n",
        "        samplewise_center=False,  # set each sample mean to 0\n",
        "        featurewise_std_normalization=False,  # divide inputs by std of the dataset\n",
        "        samplewise_std_normalization=False,  # divide each input by its std\n",
        "        zca_whitening=False,  # apply ZCA whitening\n",
        "        rotation_range=8,  # randomly rotate images in the range (degrees, 0 to 180)\n",
        "        zoom_range = 0.08, # Randomly zoom image \n",
        "        width_shift_range=0.08,  # randomly shift images horizontally (fraction of total width)\n",
        "        shear_range=0.3,\n",
        "        height_shift_range=0.08,  # randomly shift images vertically (fraction of total height)\n",
        "        horizontal_flip=False,  # randomly flip images\n",
        "        vertical_flip=False)  # randomly flip images\n",
        "\n",
        "datagen.fit(X_train)"
      ],
      "execution_count": 6,
      "outputs": [
        {
          "output_type": "stream",
          "text": [
            "time: 64.7 ms\n"
          ],
          "name": "stdout"
        }
      ]
    },
    {
      "cell_type": "code",
      "metadata": {
        "id": "g8R9-Uo2TzTh",
        "outputId": "f806323f-39ee-4333-d3d1-ce552ad48ecf",
        "colab": {
          "base_uri": "https://localhost:8080/",
          "height": 569
        }
      },
      "source": [
        "#Model 1\n",
        "\n",
        "model_1 = Sequential()\n",
        "\n",
        "model_1.add(Conv2D(filters = 32, kernel_size = (5,5),padding = 'Same', \n",
        "                 activation ='relu', input_shape = (28,28,1)))\n",
        "model_1.add(Conv2D(filters = 32, kernel_size = (5,5),padding = 'Same', \n",
        "                 activation ='relu'))\n",
        "model_1.add(MaxPool2D(pool_size=(2,2)))\n",
        "model_1.add(Dropout(0.25))\n",
        "\n",
        "\n",
        "model_1.add(Conv2D(filters = 64, kernel_size = (3,3),padding = 'Same', \n",
        "                 activation ='relu'))\n",
        "model_1.add(Conv2D(filters = 64, kernel_size = (3,3),padding = 'Same', \n",
        "                 activation ='relu'))\n",
        "model_1.add(MaxPool2D(pool_size=(2,2), strides=(2,2)))\n",
        "model_1.add(Dropout(0.25))\n",
        "\n",
        "\n",
        "model_1.add(Flatten())\n",
        "model_1.add(Dense(256, activation = \"relu\"))\n",
        "model_1.add(Dropout(0.5))\n",
        "model_1.add(Dense(10, activation = \"softmax\"))\n",
        "\n",
        "optimizer = Adam(learning_rate=0.001)\n",
        "\n",
        "model_1.compile(optimizer = optimizer , loss = \"categorical_crossentropy\", metrics=[\"accuracy\"])\n",
        "\n",
        "model_1.summary()\n",
        "\n"
      ],
      "execution_count": 7,
      "outputs": [
        {
          "output_type": "stream",
          "text": [
            "Model: \"sequential\"\n",
            "_________________________________________________________________\n",
            "Layer (type)                 Output Shape              Param #   \n",
            "=================================================================\n",
            "conv2d (Conv2D)              (None, 28, 28, 32)        832       \n",
            "_________________________________________________________________\n",
            "conv2d_1 (Conv2D)            (None, 28, 28, 32)        25632     \n",
            "_________________________________________________________________\n",
            "max_pooling2d (MaxPooling2D) (None, 14, 14, 32)        0         \n",
            "_________________________________________________________________\n",
            "dropout (Dropout)            (None, 14, 14, 32)        0         \n",
            "_________________________________________________________________\n",
            "conv2d_2 (Conv2D)            (None, 14, 14, 64)        18496     \n",
            "_________________________________________________________________\n",
            "conv2d_3 (Conv2D)            (None, 14, 14, 64)        36928     \n",
            "_________________________________________________________________\n",
            "max_pooling2d_1 (MaxPooling2 (None, 7, 7, 64)          0         \n",
            "_________________________________________________________________\n",
            "dropout_1 (Dropout)          (None, 7, 7, 64)          0         \n",
            "_________________________________________________________________\n",
            "flatten (Flatten)            (None, 3136)              0         \n",
            "_________________________________________________________________\n",
            "dense (Dense)                (None, 256)               803072    \n",
            "_________________________________________________________________\n",
            "dropout_2 (Dropout)          (None, 256)               0         \n",
            "_________________________________________________________________\n",
            "dense_1 (Dense)              (None, 10)                2570      \n",
            "=================================================================\n",
            "Total params: 887,530\n",
            "Trainable params: 887,530\n",
            "Non-trainable params: 0\n",
            "_________________________________________________________________\n",
            "time: 5.7 s\n"
          ],
          "name": "stdout"
        }
      ]
    },
    {
      "cell_type": "code",
      "metadata": {
        "id": "kC_5MASqUVrv",
        "outputId": "eab2926f-2ffc-4b73-b8b7-1ddca9e97df1",
        "colab": {
          "base_uri": "https://localhost:8080/",
          "height": 1000
        }
      },
      "source": [
        "#Model 2\n",
        "\n",
        "model_2= Sequential()\n",
        "\n",
        "model_2.add(Conv2D(input_shape=(28,28,1), filters=32, kernel_size=(5,5), padding='Same', activation='relu'))\n",
        "model_2.add(BatchNormalization())\n",
        "model_2.add(Dropout(0.10))\n",
        "\n",
        "model_2.add(Conv2D(filters=32, kernel_size=(5,5), padding='Same', activation='relu'))\n",
        "model_2.add(BatchNormalization())\n",
        "model_2.add(MaxPool2D(pool_size=(2,2)))\n",
        "model_2.add(Dropout(0.10))\n",
        "\n",
        "model_2.add(Conv2D(filters=64, kernel_size=(3,3), padding='Same', activation='relu'))\n",
        "model_2.add(BatchNormalization())\n",
        "\n",
        "model_2.add(Conv2D(filters=64, kernel_size = (3,3), activation=\"relu\"))\n",
        "model_2.add(BatchNormalization())\n",
        "model_2.add(Dropout(0.25))\n",
        "\n",
        "model_2.add(Conv2D(filters=64, kernel_size=(3,3), padding='Same', activation='relu'))\n",
        "model_2.add(BatchNormalization())\n",
        "model_2.add(MaxPool2D(pool_size=(2,2), strides=(2,2)))\n",
        "model_2.add(Dropout(0.25))\n",
        "\n",
        "model_2.add(Conv2D(filters=128, kernel_size = (3,3), activation=\"relu\"))\n",
        "model_2.add(BatchNormalization())\n",
        "\n",
        "\n",
        "\n",
        "model_2.add(Conv2D(filters=128, kernel_size = (3,3), activation=\"relu\"))\n",
        "model_2.add(BatchNormalization())\n",
        "model_2.add(MaxPool2D(pool_size=(2,2)))\n",
        "model_2.add(Dropout(0.25))\n",
        "\n",
        "\n",
        "\n",
        "\n",
        "model_2.add(Flatten())\n",
        "model_2.add(Dense(256, activation='relu'))\n",
        "model_2.add(Dropout(0.25))\n",
        "\n",
        "model_2.add(Dense(10, activation='softmax'))\n",
        "\n",
        "optimizer = Adam(learning_rate=0.001)\n",
        "\n",
        "model_2.compile(optimizer = optimizer , loss = \"categorical_crossentropy\", metrics=[\"accuracy\"])\n",
        "\n",
        "\n",
        "model_2.summary()"
      ],
      "execution_count": 8,
      "outputs": [
        {
          "output_type": "stream",
          "text": [
            "Model: \"sequential_1\"\n",
            "_________________________________________________________________\n",
            "Layer (type)                 Output Shape              Param #   \n",
            "=================================================================\n",
            "conv2d_4 (Conv2D)            (None, 28, 28, 32)        832       \n",
            "_________________________________________________________________\n",
            "batch_normalization (BatchNo (None, 28, 28, 32)        128       \n",
            "_________________________________________________________________\n",
            "dropout_3 (Dropout)          (None, 28, 28, 32)        0         \n",
            "_________________________________________________________________\n",
            "conv2d_5 (Conv2D)            (None, 28, 28, 32)        25632     \n",
            "_________________________________________________________________\n",
            "batch_normalization_1 (Batch (None, 28, 28, 32)        128       \n",
            "_________________________________________________________________\n",
            "max_pooling2d_2 (MaxPooling2 (None, 14, 14, 32)        0         \n",
            "_________________________________________________________________\n",
            "dropout_4 (Dropout)          (None, 14, 14, 32)        0         \n",
            "_________________________________________________________________\n",
            "conv2d_6 (Conv2D)            (None, 14, 14, 64)        18496     \n",
            "_________________________________________________________________\n",
            "batch_normalization_2 (Batch (None, 14, 14, 64)        256       \n",
            "_________________________________________________________________\n",
            "conv2d_7 (Conv2D)            (None, 12, 12, 64)        36928     \n",
            "_________________________________________________________________\n",
            "batch_normalization_3 (Batch (None, 12, 12, 64)        256       \n",
            "_________________________________________________________________\n",
            "dropout_5 (Dropout)          (None, 12, 12, 64)        0         \n",
            "_________________________________________________________________\n",
            "conv2d_8 (Conv2D)            (None, 12, 12, 64)        36928     \n",
            "_________________________________________________________________\n",
            "batch_normalization_4 (Batch (None, 12, 12, 64)        256       \n",
            "_________________________________________________________________\n",
            "max_pooling2d_3 (MaxPooling2 (None, 6, 6, 64)          0         \n",
            "_________________________________________________________________\n",
            "dropout_6 (Dropout)          (None, 6, 6, 64)          0         \n",
            "_________________________________________________________________\n",
            "conv2d_9 (Conv2D)            (None, 4, 4, 128)         73856     \n",
            "_________________________________________________________________\n",
            "batch_normalization_5 (Batch (None, 4, 4, 128)         512       \n",
            "_________________________________________________________________\n",
            "conv2d_10 (Conv2D)           (None, 2, 2, 128)         147584    \n",
            "_________________________________________________________________\n",
            "batch_normalization_6 (Batch (None, 2, 2, 128)         512       \n",
            "_________________________________________________________________\n",
            "max_pooling2d_4 (MaxPooling2 (None, 1, 1, 128)         0         \n",
            "_________________________________________________________________\n",
            "dropout_7 (Dropout)          (None, 1, 1, 128)         0         \n",
            "_________________________________________________________________\n",
            "flatten_1 (Flatten)          (None, 128)               0         \n",
            "_________________________________________________________________\n",
            "dense_2 (Dense)              (None, 256)               33024     \n",
            "_________________________________________________________________\n",
            "dropout_8 (Dropout)          (None, 256)               0         \n",
            "_________________________________________________________________\n",
            "dense_3 (Dense)              (None, 10)                2570      \n",
            "=================================================================\n",
            "Total params: 377,898\n",
            "Trainable params: 376,874\n",
            "Non-trainable params: 1,024\n",
            "_________________________________________________________________\n",
            "time: 387 ms\n"
          ],
          "name": "stdout"
        }
      ]
    },
    {
      "cell_type": "code",
      "metadata": {
        "id": "k2SahOIdU61c",
        "outputId": "3d1483e8-7187-4fb1-fd5e-7b813ba582f3",
        "colab": {
          "base_uri": "https://localhost:8080/",
          "height": 836
        }
      },
      "source": [
        "#Here is to create and compile model 3\n",
        "model_3 = Sequential()\n",
        "\n",
        "model_3.add(Conv2D(filters = 64, kernel_size = (5,5),padding = 'Same', activation ='relu', input_shape = (28,28,1)))\n",
        "model_3.add(BatchNormalization())\n",
        "\n",
        "model_3.add(Conv2D(filters = 64, kernel_size = (5,5),padding = 'Same', activation ='relu'))\n",
        "model_3.add(BatchNormalization())\n",
        "\n",
        "model_3.add(MaxPool2D(pool_size=(2,2)))\n",
        "model_3.add(Dropout(0.25))\n",
        "\n",
        "model_3.add(Conv2D(filters = 64, kernel_size = (3,3),padding = 'Same', activation ='relu'))\n",
        "model_3.add(BatchNormalization())\n",
        "\n",
        "model_3.add(Conv2D(filters = 64, kernel_size = (3,3),padding = 'Same', activation ='relu'))\n",
        "model_3.add(BatchNormalization())\n",
        "model_3.add(MaxPool2D(pool_size=(2,2), strides=(2,2)))\n",
        "model_3.add(Dropout(0.25))\n",
        "\n",
        "model_3.add(Conv2D(filters = 64, kernel_size = (3,3), padding = 'Same',  activation ='relu'))\n",
        "model_3.add(BatchNormalization())\n",
        "model_3.add(Dropout(0.25))\n",
        "\n",
        "model_3.add(Flatten())\n",
        "model_3.add(Dense(256, activation = \"relu\"))\n",
        "model_3.add(BatchNormalization())\n",
        "model_3.add(Dropout(0.25))\n",
        "\n",
        "model_3.add(Dense(10, activation = \"softmax\"))\n",
        "\n",
        "optimizer = Adam(learning_rate=0.001)\n",
        "\n",
        "model_3.compile(optimizer = optimizer , loss = \"categorical_crossentropy\", metrics=[\"accuracy\"])\n",
        "\n",
        "\n",
        "model_3.summary()"
      ],
      "execution_count": 9,
      "outputs": [
        {
          "output_type": "stream",
          "text": [
            "Model: \"sequential_2\"\n",
            "_________________________________________________________________\n",
            "Layer (type)                 Output Shape              Param #   \n",
            "=================================================================\n",
            "conv2d_11 (Conv2D)           (None, 28, 28, 64)        1664      \n",
            "_________________________________________________________________\n",
            "batch_normalization_7 (Batch (None, 28, 28, 64)        256       \n",
            "_________________________________________________________________\n",
            "conv2d_12 (Conv2D)           (None, 28, 28, 64)        102464    \n",
            "_________________________________________________________________\n",
            "batch_normalization_8 (Batch (None, 28, 28, 64)        256       \n",
            "_________________________________________________________________\n",
            "max_pooling2d_5 (MaxPooling2 (None, 14, 14, 64)        0         \n",
            "_________________________________________________________________\n",
            "dropout_9 (Dropout)          (None, 14, 14, 64)        0         \n",
            "_________________________________________________________________\n",
            "conv2d_13 (Conv2D)           (None, 14, 14, 64)        36928     \n",
            "_________________________________________________________________\n",
            "batch_normalization_9 (Batch (None, 14, 14, 64)        256       \n",
            "_________________________________________________________________\n",
            "conv2d_14 (Conv2D)           (None, 14, 14, 64)        36928     \n",
            "_________________________________________________________________\n",
            "batch_normalization_10 (Batc (None, 14, 14, 64)        256       \n",
            "_________________________________________________________________\n",
            "max_pooling2d_6 (MaxPooling2 (None, 7, 7, 64)          0         \n",
            "_________________________________________________________________\n",
            "dropout_10 (Dropout)         (None, 7, 7, 64)          0         \n",
            "_________________________________________________________________\n",
            "conv2d_15 (Conv2D)           (None, 7, 7, 64)          36928     \n",
            "_________________________________________________________________\n",
            "batch_normalization_11 (Batc (None, 7, 7, 64)          256       \n",
            "_________________________________________________________________\n",
            "dropout_11 (Dropout)         (None, 7, 7, 64)          0         \n",
            "_________________________________________________________________\n",
            "flatten_2 (Flatten)          (None, 3136)              0         \n",
            "_________________________________________________________________\n",
            "dense_4 (Dense)              (None, 256)               803072    \n",
            "_________________________________________________________________\n",
            "batch_normalization_12 (Batc (None, 256)               1024      \n",
            "_________________________________________________________________\n",
            "dropout_12 (Dropout)         (None, 256)               0         \n",
            "_________________________________________________________________\n",
            "dense_5 (Dense)              (None, 10)                2570      \n",
            "=================================================================\n",
            "Total params: 1,022,858\n",
            "Trainable params: 1,021,706\n",
            "Non-trainable params: 1,152\n",
            "_________________________________________________________________\n",
            "time: 311 ms\n"
          ],
          "name": "stdout"
        }
      ]
    },
    {
      "cell_type": "code",
      "metadata": {
        "id": "bek4hJnAVEQW",
        "outputId": "b300ba34-ea38-479e-9c5e-673fd9b91f6a",
        "colab": {
          "base_uri": "https://localhost:8080/",
          "height": 33
        }
      },
      "source": [
        "# model checkpoint\n",
        "\n",
        "mc_1 = ModelCheckpoint('best_model_1.h5', monitor='val_loss', mode='min', save_best_only= True, verbose=1)\n",
        "mc_2 = ModelCheckpoint('best_model_2.h5', monitor='val_loss', mode='min', save_best_only= True, verbose=1)\n",
        "mc_3 = ModelCheckpoint('best_model_3.h5', monitor='val_loss', mode='min', save_best_only= True, verbose=1)"
      ],
      "execution_count": 10,
      "outputs": [
        {
          "output_type": "stream",
          "text": [
            "time: 2.35 ms\n"
          ],
          "name": "stdout"
        }
      ]
    },
    {
      "cell_type": "code",
      "metadata": {
        "id": "59j45Js9_tzD",
        "outputId": "b0441693-3d65-4737-f25c-50a9a57b58ac",
        "colab": {
          "base_uri": "https://localhost:8080/",
          "height": 35
        }
      },
      "source": [
        "model_1.load_weights('last_model_1.h5')\n",
        "model_2.load_weights('last_model_2.h5')\n",
        "model_3.load_weights('last_model_3.h5')"
      ],
      "execution_count": null,
      "outputs": [
        {
          "output_type": "stream",
          "text": [
            "time: 3.93 s\n"
          ],
          "name": "stdout"
        }
      ]
    },
    {
      "cell_type": "code",
      "metadata": {
        "id": "0c4Cw_uvU7yQ",
        "outputId": "faabf441-4835-4229-f8c8-0ef29478e3e6",
        "colab": {
          "base_uri": "https://localhost:8080/",
          "height": 1000
        }
      },
      "source": [
        "#train model 1\n",
        "\n",
        "\n",
        "learning_rate_reduction = ReduceLROnPlateau(monitor='val_accuracy', \n",
        "                                            patience=5, \n",
        "                                            verbose=1, \n",
        "                                            factor=0.8, \n",
        "                                            min_lr=0.00001)\n",
        "\n",
        "epochs = 40\n",
        "batch_size = 16\n",
        "step_per_epoch = X_train.shape[0] // batch_size\n",
        "history_1 = model_1.fit_generator(datagen.flow(X_train,y_train, batch_size=batch_size), epochs = epochs, validation_data = (X_val,y_val), steps_per_epoch=step_per_epoch, callbacks=[learning_rate_reduction, mc_1])\n",
        "model_1.save(\"last_model_1.h5\")"
      ],
      "execution_count": 11,
      "outputs": [
        {
          "output_type": "stream",
          "text": [
            "WARNING:tensorflow:From <ipython-input-11-65d100ae0c4d>:13: Model.fit_generator (from tensorflow.python.keras.engine.training) is deprecated and will be removed in a future version.\n",
            "Instructions for updating:\n",
            "Please use Model.fit, which supports generators.\n",
            "Epoch 1/40\n",
            "2358/2362 [============================>.] - ETA: 0s - loss: 0.2864 - accuracy: 0.9104\n",
            "Epoch 00001: val_loss improved from inf to 0.06994, saving model to best_model_1.h5\n",
            "2362/2362 [==============================] - 30s 13ms/step - loss: 0.2862 - accuracy: 0.9105 - val_loss: 0.0699 - val_accuracy: 0.9800\n",
            "Epoch 2/40\n",
            "2361/2362 [============================>.] - ETA: 0s - loss: 0.1176 - accuracy: 0.9653\n",
            "Epoch 00002: val_loss improved from 0.06994 to 0.04172, saving model to best_model_1.h5\n",
            "2362/2362 [==============================] - 28s 12ms/step - loss: 0.1176 - accuracy: 0.9653 - val_loss: 0.0417 - val_accuracy: 0.9879\n",
            "Epoch 3/40\n",
            "2361/2362 [============================>.] - ETA: 0s - loss: 0.0896 - accuracy: 0.9730\n",
            "Epoch 00003: val_loss improved from 0.04172 to 0.03028, saving model to best_model_1.h5\n",
            "2362/2362 [==============================] - 29s 12ms/step - loss: 0.0896 - accuracy: 0.9730 - val_loss: 0.0303 - val_accuracy: 0.9919\n",
            "Epoch 4/40\n",
            "2362/2362 [==============================] - ETA: 0s - loss: 0.0838 - accuracy: 0.9753\n",
            "Epoch 00004: val_loss improved from 0.03028 to 0.02846, saving model to best_model_1.h5\n",
            "2362/2362 [==============================] - 28s 12ms/step - loss: 0.0838 - accuracy: 0.9753 - val_loss: 0.0285 - val_accuracy: 0.9914\n",
            "Epoch 5/40\n",
            "2359/2362 [============================>.] - ETA: 0s - loss: 0.0697 - accuracy: 0.9789\n",
            "Epoch 00005: val_loss did not improve from 0.02846\n",
            "2362/2362 [==============================] - 28s 12ms/step - loss: 0.0697 - accuracy: 0.9789 - val_loss: 0.0376 - val_accuracy: 0.9910\n",
            "Epoch 6/40\n",
            "2360/2362 [============================>.] - ETA: 0s - loss: 0.0668 - accuracy: 0.9806\n",
            "Epoch 00006: val_loss did not improve from 0.02846\n",
            "2362/2362 [==============================] - 28s 12ms/step - loss: 0.0668 - accuracy: 0.9806 - val_loss: 0.0318 - val_accuracy: 0.9898\n",
            "Epoch 7/40\n",
            "2359/2362 [============================>.] - ETA: 0s - loss: 0.0638 - accuracy: 0.9814\n",
            "Epoch 00007: val_loss did not improve from 0.02846\n",
            "2362/2362 [==============================] - 28s 12ms/step - loss: 0.0637 - accuracy: 0.9814 - val_loss: 0.0305 - val_accuracy: 0.9926\n",
            "Epoch 8/40\n",
            "2361/2362 [============================>.] - ETA: 0s - loss: 0.0594 - accuracy: 0.9831\n",
            "Epoch 00008: val_loss improved from 0.02846 to 0.02516, saving model to best_model_1.h5\n",
            "2362/2362 [==============================] - 29s 12ms/step - loss: 0.0594 - accuracy: 0.9831 - val_loss: 0.0252 - val_accuracy: 0.9933\n",
            "Epoch 9/40\n",
            "2362/2362 [==============================] - ETA: 0s - loss: 0.0584 - accuracy: 0.9839\n",
            "Epoch 00009: val_loss improved from 0.02516 to 0.02427, saving model to best_model_1.h5\n",
            "2362/2362 [==============================] - 29s 12ms/step - loss: 0.0584 - accuracy: 0.9839 - val_loss: 0.0243 - val_accuracy: 0.9921\n",
            "Epoch 10/40\n",
            "2358/2362 [============================>.] - ETA: 0s - loss: 0.0570 - accuracy: 0.9835\n",
            "Epoch 00010: val_loss improved from 0.02427 to 0.02383, saving model to best_model_1.h5\n",
            "2362/2362 [==============================] - 29s 12ms/step - loss: 0.0569 - accuracy: 0.9835 - val_loss: 0.0238 - val_accuracy: 0.9936\n",
            "Epoch 11/40\n",
            "2361/2362 [============================>.] - ETA: 0s - loss: 0.0554 - accuracy: 0.9844\n",
            "Epoch 00011: val_loss did not improve from 0.02383\n",
            "2362/2362 [==============================] - 28s 12ms/step - loss: 0.0554 - accuracy: 0.9844 - val_loss: 0.0291 - val_accuracy: 0.9933\n",
            "Epoch 12/40\n",
            "2359/2362 [============================>.] - ETA: 0s - loss: 0.0561 - accuracy: 0.9835\n",
            "Epoch 00012: val_loss did not improve from 0.02383\n",
            "2362/2362 [==============================] - 28s 12ms/step - loss: 0.0562 - accuracy: 0.9835 - val_loss: 0.0264 - val_accuracy: 0.9933\n",
            "Epoch 13/40\n",
            "2362/2362 [==============================] - ETA: 0s - loss: 0.0541 - accuracy: 0.9844\n",
            "Epoch 00013: val_loss improved from 0.02383 to 0.02134, saving model to best_model_1.h5\n",
            "2362/2362 [==============================] - 29s 12ms/step - loss: 0.0541 - accuracy: 0.9844 - val_loss: 0.0213 - val_accuracy: 0.9933\n",
            "Epoch 14/40\n",
            "2361/2362 [============================>.] - ETA: 0s - loss: 0.0538 - accuracy: 0.9848\n",
            "Epoch 00014: val_loss did not improve from 0.02134\n",
            "2362/2362 [==============================] - 28s 12ms/step - loss: 0.0538 - accuracy: 0.9848 - val_loss: 0.0331 - val_accuracy: 0.9910\n",
            "Epoch 15/40\n",
            "2361/2362 [============================>.] - ETA: 0s - loss: 0.0514 - accuracy: 0.9858\n",
            "Epoch 00015: ReduceLROnPlateau reducing learning rate to 0.000800000037997961.\n",
            "\n",
            "Epoch 00015: val_loss did not improve from 0.02134\n",
            "2362/2362 [==============================] - 28s 12ms/step - loss: 0.0514 - accuracy: 0.9858 - val_loss: 0.0269 - val_accuracy: 0.9924\n",
            "Epoch 16/40\n",
            "2362/2362 [==============================] - ETA: 0s - loss: 0.0454 - accuracy: 0.9872\n",
            "Epoch 00016: val_loss did not improve from 0.02134\n",
            "2362/2362 [==============================] - 28s 12ms/step - loss: 0.0454 - accuracy: 0.9872 - val_loss: 0.0265 - val_accuracy: 0.9945\n",
            "Epoch 17/40\n",
            "2362/2362 [==============================] - ETA: 0s - loss: 0.0443 - accuracy: 0.9869\n",
            "Epoch 00017: val_loss did not improve from 0.02134\n",
            "2362/2362 [==============================] - 28s 12ms/step - loss: 0.0443 - accuracy: 0.9869 - val_loss: 0.0220 - val_accuracy: 0.9933\n",
            "Epoch 18/40\n",
            "2360/2362 [============================>.] - ETA: 0s - loss: 0.0454 - accuracy: 0.9875\n",
            "Epoch 00018: val_loss did not improve from 0.02134\n",
            "2362/2362 [==============================] - 28s 12ms/step - loss: 0.0454 - accuracy: 0.9875 - val_loss: 0.0257 - val_accuracy: 0.9929\n",
            "Epoch 19/40\n",
            "2359/2362 [============================>.] - ETA: 0s - loss: 0.0462 - accuracy: 0.9870\n",
            "Epoch 00019: val_loss did not improve from 0.02134\n",
            "2362/2362 [==============================] - 28s 12ms/step - loss: 0.0465 - accuracy: 0.9869 - val_loss: 0.0223 - val_accuracy: 0.9940\n",
            "Epoch 20/40\n",
            "2361/2362 [============================>.] - ETA: 0s - loss: 0.0446 - accuracy: 0.9870\n",
            "Epoch 00020: val_loss did not improve from 0.02134\n",
            "2362/2362 [==============================] - 28s 12ms/step - loss: 0.0446 - accuracy: 0.9870 - val_loss: 0.0301 - val_accuracy: 0.9931\n",
            "Epoch 21/40\n",
            "2359/2362 [============================>.] - ETA: 0s - loss: 0.0426 - accuracy: 0.9875\n",
            "Epoch 00021: ReduceLROnPlateau reducing learning rate to 0.0006400000303983689.\n",
            "\n",
            "Epoch 00021: val_loss did not improve from 0.02134\n",
            "2362/2362 [==============================] - 28s 12ms/step - loss: 0.0427 - accuracy: 0.9875 - val_loss: 0.0302 - val_accuracy: 0.9926\n",
            "Epoch 22/40\n",
            "2362/2362 [==============================] - ETA: 0s - loss: 0.0385 - accuracy: 0.9893\n",
            "Epoch 00022: val_loss did not improve from 0.02134\n",
            "2362/2362 [==============================] - 28s 12ms/step - loss: 0.0385 - accuracy: 0.9893 - val_loss: 0.0223 - val_accuracy: 0.9936\n",
            "Epoch 23/40\n",
            "2359/2362 [============================>.] - ETA: 0s - loss: 0.0397 - accuracy: 0.9887\n",
            "Epoch 00023: val_loss did not improve from 0.02134\n",
            "2362/2362 [==============================] - 28s 12ms/step - loss: 0.0396 - accuracy: 0.9888 - val_loss: 0.0249 - val_accuracy: 0.9938\n",
            "Epoch 24/40\n",
            "2359/2362 [============================>.] - ETA: 0s - loss: 0.0369 - accuracy: 0.9900\n",
            "Epoch 00024: val_loss did not improve from 0.02134\n",
            "2362/2362 [==============================] - 28s 12ms/step - loss: 0.0369 - accuracy: 0.9900 - val_loss: 0.0309 - val_accuracy: 0.9921\n",
            "Epoch 25/40\n",
            "2359/2362 [============================>.] - ETA: 0s - loss: 0.0342 - accuracy: 0.9909\n",
            "Epoch 00025: val_loss did not improve from 0.02134\n",
            "2362/2362 [==============================] - 28s 12ms/step - loss: 0.0342 - accuracy: 0.9909 - val_loss: 0.0241 - val_accuracy: 0.9955\n",
            "Epoch 26/40\n",
            "2360/2362 [============================>.] - ETA: 0s - loss: 0.0365 - accuracy: 0.9904\n",
            "Epoch 00026: val_loss did not improve from 0.02134\n",
            "2362/2362 [==============================] - 28s 12ms/step - loss: 0.0365 - accuracy: 0.9904 - val_loss: 0.0325 - val_accuracy: 0.9931\n",
            "Epoch 27/40\n",
            "2359/2362 [============================>.] - ETA: 0s - loss: 0.0351 - accuracy: 0.9900\n",
            "Epoch 00027: val_loss did not improve from 0.02134\n",
            "2362/2362 [==============================] - 28s 12ms/step - loss: 0.0350 - accuracy: 0.9900 - val_loss: 0.0262 - val_accuracy: 0.9933\n",
            "Epoch 28/40\n",
            "2361/2362 [============================>.] - ETA: 0s - loss: 0.0377 - accuracy: 0.9901\n",
            "Epoch 00028: val_loss did not improve from 0.02134\n",
            "2362/2362 [==============================] - 28s 12ms/step - loss: 0.0376 - accuracy: 0.9901 - val_loss: 0.0251 - val_accuracy: 0.9948\n",
            "Epoch 29/40\n",
            "2361/2362 [============================>.] - ETA: 0s - loss: 0.0345 - accuracy: 0.9898\n",
            "Epoch 00029: val_loss did not improve from 0.02134\n",
            "2362/2362 [==============================] - 28s 12ms/step - loss: 0.0345 - accuracy: 0.9898 - val_loss: 0.0231 - val_accuracy: 0.9938\n",
            "Epoch 30/40\n",
            "2358/2362 [============================>.] - ETA: 0s - loss: 0.0356 - accuracy: 0.9898\n",
            "Epoch 00030: ReduceLROnPlateau reducing learning rate to 0.0005120000336319208.\n",
            "\n",
            "Epoch 00030: val_loss did not improve from 0.02134\n",
            "2362/2362 [==============================] - 28s 12ms/step - loss: 0.0355 - accuracy: 0.9898 - val_loss: 0.0309 - val_accuracy: 0.9924\n",
            "Epoch 31/40\n",
            "2360/2362 [============================>.] - ETA: 0s - loss: 0.0309 - accuracy: 0.9912\n",
            "Epoch 00031: val_loss improved from 0.02134 to 0.01937, saving model to best_model_1.h5\n",
            "2362/2362 [==============================] - 29s 12ms/step - loss: 0.0309 - accuracy: 0.9912 - val_loss: 0.0194 - val_accuracy: 0.9952\n",
            "Epoch 32/40\n",
            "2358/2362 [============================>.] - ETA: 0s - loss: 0.0307 - accuracy: 0.9914\n",
            "Epoch 00032: val_loss did not improve from 0.01937\n",
            "2362/2362 [==============================] - 28s 12ms/step - loss: 0.0307 - accuracy: 0.9913 - val_loss: 0.0273 - val_accuracy: 0.9940\n",
            "Epoch 33/40\n",
            "2359/2362 [============================>.] - ETA: 0s - loss: 0.0305 - accuracy: 0.9916\n",
            "Epoch 00033: val_loss did not improve from 0.01937\n",
            "2362/2362 [==============================] - 28s 12ms/step - loss: 0.0305 - accuracy: 0.9916 - val_loss: 0.0301 - val_accuracy: 0.9945\n",
            "Epoch 34/40\n",
            "2361/2362 [============================>.] - ETA: 0s - loss: 0.0327 - accuracy: 0.9910\n",
            "Epoch 00034: val_loss did not improve from 0.01937\n",
            "2362/2362 [==============================] - 28s 12ms/step - loss: 0.0327 - accuracy: 0.9910 - val_loss: 0.0268 - val_accuracy: 0.9950\n",
            "Epoch 35/40\n",
            "2361/2362 [============================>.] - ETA: 0s - loss: 0.0282 - accuracy: 0.9917\n",
            "Epoch 00035: ReduceLROnPlateau reducing learning rate to 0.00040960004553198815.\n",
            "\n",
            "Epoch 00035: val_loss did not improve from 0.01937\n",
            "2362/2362 [==============================] - 28s 12ms/step - loss: 0.0282 - accuracy: 0.9917 - val_loss: 0.0227 - val_accuracy: 0.9948\n",
            "Epoch 36/40\n",
            "2360/2362 [============================>.] - ETA: 0s - loss: 0.0273 - accuracy: 0.9925\n",
            "Epoch 00036: val_loss did not improve from 0.01937\n",
            "2362/2362 [==============================] - 28s 12ms/step - loss: 0.0273 - accuracy: 0.9925 - val_loss: 0.0269 - val_accuracy: 0.9938\n",
            "Epoch 37/40\n",
            "2362/2362 [==============================] - ETA: 0s - loss: 0.0255 - accuracy: 0.9927\n",
            "Epoch 00037: val_loss did not improve from 0.01937\n",
            "2362/2362 [==============================] - 28s 12ms/step - loss: 0.0255 - accuracy: 0.9927 - val_loss: 0.0237 - val_accuracy: 0.9948\n",
            "Epoch 38/40\n",
            "2361/2362 [============================>.] - ETA: 0s - loss: 0.0274 - accuracy: 0.9924\n",
            "Epoch 00038: val_loss did not improve from 0.01937\n",
            "2362/2362 [==============================] - 28s 12ms/step - loss: 0.0274 - accuracy: 0.9924 - val_loss: 0.0253 - val_accuracy: 0.9945\n",
            "Epoch 39/40\n",
            "2362/2362 [==============================] - ETA: 0s - loss: 0.0276 - accuracy: 0.9917\n",
            "Epoch 00039: val_loss did not improve from 0.01937\n",
            "2362/2362 [==============================] - 28s 12ms/step - loss: 0.0276 - accuracy: 0.9917 - val_loss: 0.0196 - val_accuracy: 0.9952\n",
            "Epoch 40/40\n",
            "2360/2362 [============================>.] - ETA: 0s - loss: 0.0254 - accuracy: 0.9926\n",
            "Epoch 00040: ReduceLROnPlateau reducing learning rate to 0.00032768002711236477.\n",
            "\n",
            "Epoch 00040: val_loss did not improve from 0.01937\n",
            "2362/2362 [==============================] - 28s 12ms/step - loss: 0.0255 - accuracy: 0.9926 - val_loss: 0.0211 - val_accuracy: 0.9952\n",
            "time: 19min\n"
          ],
          "name": "stdout"
        }
      ]
    },
    {
      "cell_type": "code",
      "metadata": {
        "id": "YpbnXSHHdbCs",
        "outputId": "44780024-fce7-4081-fff6-49d31084777b",
        "colab": {
          "base_uri": "https://localhost:8080/",
          "height": 1000
        }
      },
      "source": [
        "#train model 2\n",
        "\n",
        "\n",
        "learning_rate_reduction = ReduceLROnPlateau(monitor='val_accuracy', \n",
        "                                            patience=5, \n",
        "                                            verbose=1, \n",
        "                                            factor=0.8, \n",
        "                                            min_lr=0.00001)\n",
        "\n",
        "epochs = 40\n",
        "batch_size = 16\n",
        "step_per_epoch = X_train.shape[0] // batch_size\n",
        "history_2 = model_2.fit_generator(datagen.flow(X_train,y_train, batch_size=batch_size), epochs = epochs, validation_data = (X_val,y_val), steps_per_epoch=step_per_epoch, callbacks=[learning_rate_reduction, mc_2])\n",
        "model_2.save(\"last_model_2.h5\")"
      ],
      "execution_count": 12,
      "outputs": [
        {
          "output_type": "stream",
          "text": [
            "Epoch 1/40\n",
            "2361/2362 [============================>.] - ETA: 0s - loss: 0.2683 - accuracy: 0.9176\n",
            "Epoch 00001: val_loss improved from inf to 0.06471, saving model to best_model_2.h5\n",
            "2362/2362 [==============================] - 32s 14ms/step - loss: 0.2682 - accuracy: 0.9176 - val_loss: 0.0647 - val_accuracy: 0.9802\n",
            "Epoch 2/40\n",
            "2359/2362 [============================>.] - ETA: 0s - loss: 0.1090 - accuracy: 0.9680\n",
            "Epoch 00002: val_loss did not improve from 0.06471\n",
            "2362/2362 [==============================] - 32s 13ms/step - loss: 0.1090 - accuracy: 0.9680 - val_loss: 0.0745 - val_accuracy: 0.9779\n",
            "Epoch 3/40\n",
            "2359/2362 [============================>.] - ETA: 0s - loss: 0.0865 - accuracy: 0.9742\n",
            "Epoch 00003: val_loss improved from 0.06471 to 0.05757, saving model to best_model_2.h5\n",
            "2362/2362 [==============================] - 32s 14ms/step - loss: 0.0865 - accuracy: 0.9742 - val_loss: 0.0576 - val_accuracy: 0.9852\n",
            "Epoch 4/40\n",
            "2360/2362 [============================>.] - ETA: 0s - loss: 0.0748 - accuracy: 0.9786\n",
            "Epoch 00004: val_loss improved from 0.05757 to 0.03145, saving model to best_model_2.h5\n",
            "2362/2362 [==============================] - 32s 14ms/step - loss: 0.0747 - accuracy: 0.9786 - val_loss: 0.0315 - val_accuracy: 0.9917\n",
            "Epoch 5/40\n",
            "2361/2362 [============================>.] - ETA: 0s - loss: 0.0684 - accuracy: 0.9806\n",
            "Epoch 00005: val_loss improved from 0.03145 to 0.02750, saving model to best_model_2.h5\n",
            "2362/2362 [==============================] - 32s 14ms/step - loss: 0.0683 - accuracy: 0.9807 - val_loss: 0.0275 - val_accuracy: 0.9921\n",
            "Epoch 6/40\n",
            "2360/2362 [============================>.] - ETA: 0s - loss: 0.0591 - accuracy: 0.9830\n",
            "Epoch 00006: val_loss did not improve from 0.02750\n",
            "2362/2362 [==============================] - 32s 13ms/step - loss: 0.0592 - accuracy: 0.9830 - val_loss: 0.0417 - val_accuracy: 0.9886\n",
            "Epoch 7/40\n",
            "2362/2362 [==============================] - ETA: 0s - loss: 0.0536 - accuracy: 0.9850\n",
            "Epoch 00007: val_loss did not improve from 0.02750\n",
            "2362/2362 [==============================] - 32s 13ms/step - loss: 0.0536 - accuracy: 0.9850 - val_loss: 0.0298 - val_accuracy: 0.9924\n",
            "Epoch 8/40\n",
            "2358/2362 [============================>.] - ETA: 0s - loss: 0.0510 - accuracy: 0.9859\n",
            "Epoch 00008: val_loss did not improve from 0.02750\n",
            "2362/2362 [==============================] - 31s 13ms/step - loss: 0.0509 - accuracy: 0.9859 - val_loss: 0.0296 - val_accuracy: 0.9940\n",
            "Epoch 9/40\n",
            "2360/2362 [============================>.] - ETA: 0s - loss: 0.0501 - accuracy: 0.9860\n",
            "Epoch 00009: val_loss improved from 0.02750 to 0.02184, saving model to best_model_2.h5\n",
            "2362/2362 [==============================] - 32s 14ms/step - loss: 0.0501 - accuracy: 0.9860 - val_loss: 0.0218 - val_accuracy: 0.9936\n",
            "Epoch 10/40\n",
            "2359/2362 [============================>.] - ETA: 0s - loss: 0.0477 - accuracy: 0.9873\n",
            "Epoch 00010: val_loss did not improve from 0.02184\n",
            "2362/2362 [==============================] - 31s 13ms/step - loss: 0.0476 - accuracy: 0.9873 - val_loss: 0.0243 - val_accuracy: 0.9940\n",
            "Epoch 11/40\n",
            "2360/2362 [============================>.] - ETA: 0s - loss: 0.0428 - accuracy: 0.9879\n",
            "Epoch 00011: val_loss did not improve from 0.02184\n",
            "2362/2362 [==============================] - 32s 13ms/step - loss: 0.0430 - accuracy: 0.9879 - val_loss: 0.0263 - val_accuracy: 0.9933\n",
            "Epoch 12/40\n",
            "2361/2362 [============================>.] - ETA: 0s - loss: 0.0431 - accuracy: 0.9881\n",
            "Epoch 00012: val_loss did not improve from 0.02184\n",
            "2362/2362 [==============================] - 31s 13ms/step - loss: 0.0431 - accuracy: 0.9881 - val_loss: 0.0233 - val_accuracy: 0.9929\n",
            "Epoch 13/40\n",
            "2358/2362 [============================>.] - ETA: 0s - loss: 0.0378 - accuracy: 0.9892\n",
            "Epoch 00013: ReduceLROnPlateau reducing learning rate to 0.000800000037997961.\n",
            "\n",
            "Epoch 00013: val_loss improved from 0.02184 to 0.02102, saving model to best_model_2.h5\n",
            "2362/2362 [==============================] - 32s 13ms/step - loss: 0.0377 - accuracy: 0.9891 - val_loss: 0.0210 - val_accuracy: 0.9940\n",
            "Epoch 14/40\n",
            "2359/2362 [============================>.] - ETA: 0s - loss: 0.0299 - accuracy: 0.9910\n",
            "Epoch 00014: val_loss did not improve from 0.02102\n",
            "2362/2362 [==============================] - 31s 13ms/step - loss: 0.0304 - accuracy: 0.9910 - val_loss: 0.0283 - val_accuracy: 0.9931\n",
            "Epoch 15/40\n",
            "2360/2362 [============================>.] - ETA: 0s - loss: 0.0329 - accuracy: 0.9906\n",
            "Epoch 00015: val_loss improved from 0.02102 to 0.01904, saving model to best_model_2.h5\n",
            "2362/2362 [==============================] - 32s 13ms/step - loss: 0.0329 - accuracy: 0.9906 - val_loss: 0.0190 - val_accuracy: 0.9950\n",
            "Epoch 16/40\n",
            "2361/2362 [============================>.] - ETA: 0s - loss: 0.0305 - accuracy: 0.9918\n",
            "Epoch 00016: val_loss did not improve from 0.01904\n",
            "2362/2362 [==============================] - 31s 13ms/step - loss: 0.0306 - accuracy: 0.9918 - val_loss: 0.0205 - val_accuracy: 0.9940\n",
            "Epoch 17/40\n",
            "2359/2362 [============================>.] - ETA: 0s - loss: 0.0283 - accuracy: 0.9921\n",
            "Epoch 00017: val_loss improved from 0.01904 to 0.01860, saving model to best_model_2.h5\n",
            "2362/2362 [==============================] - 32s 14ms/step - loss: 0.0283 - accuracy: 0.9921 - val_loss: 0.0186 - val_accuracy: 0.9950\n",
            "Epoch 18/40\n",
            "2359/2362 [============================>.] - ETA: 0s - loss: 0.0289 - accuracy: 0.9916\n",
            "Epoch 00018: val_loss did not improve from 0.01860\n",
            "2362/2362 [==============================] - 31s 13ms/step - loss: 0.0289 - accuracy: 0.9916 - val_loss: 0.0236 - val_accuracy: 0.9933\n",
            "Epoch 19/40\n",
            "2361/2362 [============================>.] - ETA: 0s - loss: 0.0280 - accuracy: 0.9922\n",
            "Epoch 00019: val_loss did not improve from 0.01860\n",
            "2362/2362 [==============================] - 31s 13ms/step - loss: 0.0280 - accuracy: 0.9922 - val_loss: 0.0208 - val_accuracy: 0.9957\n",
            "Epoch 20/40\n",
            "2362/2362 [==============================] - ETA: 0s - loss: 0.0246 - accuracy: 0.9933\n",
            "Epoch 00020: val_loss did not improve from 0.01860\n",
            "2362/2362 [==============================] - 31s 13ms/step - loss: 0.0246 - accuracy: 0.9933 - val_loss: 0.0202 - val_accuracy: 0.9940\n",
            "Epoch 21/40\n",
            "2362/2362 [==============================] - ETA: 0s - loss: 0.0275 - accuracy: 0.9920\n",
            "Epoch 00021: val_loss did not improve from 0.01860\n",
            "2362/2362 [==============================] - 32s 14ms/step - loss: 0.0275 - accuracy: 0.9920 - val_loss: 0.0228 - val_accuracy: 0.9933\n",
            "Epoch 22/40\n",
            "2359/2362 [============================>.] - ETA: 0s - loss: 0.0253 - accuracy: 0.9926\n",
            "Epoch 00022: val_loss improved from 0.01860 to 0.01737, saving model to best_model_2.h5\n",
            "2362/2362 [==============================] - 32s 14ms/step - loss: 0.0252 - accuracy: 0.9926 - val_loss: 0.0174 - val_accuracy: 0.9950\n",
            "Epoch 23/40\n",
            "2360/2362 [============================>.] - ETA: 0s - loss: 0.0231 - accuracy: 0.9937\n",
            "Epoch 00023: val_loss improved from 0.01737 to 0.01583, saving model to best_model_2.h5\n",
            "2362/2362 [==============================] - 32s 14ms/step - loss: 0.0231 - accuracy: 0.9937 - val_loss: 0.0158 - val_accuracy: 0.9952\n",
            "Epoch 24/40\n",
            "2362/2362 [==============================] - ETA: 0s - loss: 0.0261 - accuracy: 0.9929\n",
            "Epoch 00024: ReduceLROnPlateau reducing learning rate to 0.0006400000303983689.\n",
            "\n",
            "Epoch 00024: val_loss did not improve from 0.01583\n",
            "2362/2362 [==============================] - 32s 13ms/step - loss: 0.0261 - accuracy: 0.9929 - val_loss: 0.0220 - val_accuracy: 0.9933\n",
            "Epoch 25/40\n",
            "2359/2362 [============================>.] - ETA: 0s - loss: 0.0199 - accuracy: 0.9948\n",
            "Epoch 00025: val_loss improved from 0.01583 to 0.01394, saving model to best_model_2.h5\n",
            "2362/2362 [==============================] - 32s 14ms/step - loss: 0.0199 - accuracy: 0.9948 - val_loss: 0.0139 - val_accuracy: 0.9952\n",
            "Epoch 26/40\n",
            "2361/2362 [============================>.] - ETA: 0s - loss: 0.0217 - accuracy: 0.9939\n",
            "Epoch 00026: val_loss improved from 0.01394 to 0.01303, saving model to best_model_2.h5\n",
            "2362/2362 [==============================] - 32s 14ms/step - loss: 0.0218 - accuracy: 0.9939 - val_loss: 0.0130 - val_accuracy: 0.9962\n",
            "Epoch 27/40\n",
            "2362/2362 [==============================] - ETA: 0s - loss: 0.0209 - accuracy: 0.9942\n",
            "Epoch 00027: val_loss did not improve from 0.01303\n",
            "2362/2362 [==============================] - 32s 14ms/step - loss: 0.0209 - accuracy: 0.9942 - val_loss: 0.0132 - val_accuracy: 0.9962\n",
            "Epoch 28/40\n",
            "2361/2362 [============================>.] - ETA: 0s - loss: 0.0182 - accuracy: 0.9949\n",
            "Epoch 00028: val_loss did not improve from 0.01303\n",
            "2362/2362 [==============================] - 32s 14ms/step - loss: 0.0184 - accuracy: 0.9949 - val_loss: 0.0147 - val_accuracy: 0.9967\n",
            "Epoch 29/40\n",
            "2361/2362 [============================>.] - ETA: 0s - loss: 0.0191 - accuracy: 0.9946\n",
            "Epoch 00029: val_loss did not improve from 0.01303\n",
            "2362/2362 [==============================] - 32s 13ms/step - loss: 0.0191 - accuracy: 0.9946 - val_loss: 0.0214 - val_accuracy: 0.9940\n",
            "Epoch 30/40\n",
            "2362/2362 [==============================] - ETA: 0s - loss: 0.0172 - accuracy: 0.9945\n",
            "Epoch 00030: val_loss did not improve from 0.01303\n",
            "2362/2362 [==============================] - 32s 13ms/step - loss: 0.0172 - accuracy: 0.9945 - val_loss: 0.0188 - val_accuracy: 0.9960\n",
            "Epoch 31/40\n",
            "2362/2362 [==============================] - ETA: 0s - loss: 0.0174 - accuracy: 0.9951\n",
            "Epoch 00031: val_loss did not improve from 0.01303\n",
            "2362/2362 [==============================] - 32s 14ms/step - loss: 0.0174 - accuracy: 0.9951 - val_loss: 0.0162 - val_accuracy: 0.9960\n",
            "Epoch 32/40\n",
            "2362/2362 [==============================] - ETA: 0s - loss: 0.0166 - accuracy: 0.9952\n",
            "Epoch 00032: val_loss did not improve from 0.01303\n",
            "2362/2362 [==============================] - 32s 14ms/step - loss: 0.0166 - accuracy: 0.9952 - val_loss: 0.0182 - val_accuracy: 0.9940\n",
            "Epoch 33/40\n",
            "2361/2362 [============================>.] - ETA: 0s - loss: 0.0176 - accuracy: 0.9949\n",
            "Epoch 00033: ReduceLROnPlateau reducing learning rate to 0.0005120000336319208.\n",
            "\n",
            "Epoch 00033: val_loss did not improve from 0.01303\n",
            "2362/2362 [==============================] - 32s 13ms/step - loss: 0.0176 - accuracy: 0.9949 - val_loss: 0.0153 - val_accuracy: 0.9955\n",
            "Epoch 34/40\n",
            "2361/2362 [============================>.] - ETA: 0s - loss: 0.0160 - accuracy: 0.9953\n",
            "Epoch 00034: val_loss did not improve from 0.01303\n",
            "2362/2362 [==============================] - 32s 13ms/step - loss: 0.0160 - accuracy: 0.9953 - val_loss: 0.0145 - val_accuracy: 0.9957\n",
            "Epoch 35/40\n",
            "2360/2362 [============================>.] - ETA: 0s - loss: 0.0152 - accuracy: 0.9956\n",
            "Epoch 00035: val_loss did not improve from 0.01303\n",
            "2362/2362 [==============================] - 31s 13ms/step - loss: 0.0152 - accuracy: 0.9956 - val_loss: 0.0203 - val_accuracy: 0.9945\n",
            "Epoch 36/40\n",
            "2361/2362 [============================>.] - ETA: 0s - loss: 0.0134 - accuracy: 0.9959\n",
            "Epoch 00036: val_loss did not improve from 0.01303\n",
            "2362/2362 [==============================] - 31s 13ms/step - loss: 0.0134 - accuracy: 0.9960 - val_loss: 0.0171 - val_accuracy: 0.9964\n",
            "Epoch 37/40\n",
            "2361/2362 [============================>.] - ETA: 0s - loss: 0.0137 - accuracy: 0.9959\n",
            "Epoch 00037: val_loss did not improve from 0.01303\n",
            "2362/2362 [==============================] - 32s 13ms/step - loss: 0.0137 - accuracy: 0.9959 - val_loss: 0.0176 - val_accuracy: 0.9952\n",
            "Epoch 38/40\n",
            "2361/2362 [============================>.] - ETA: 0s - loss: 0.0133 - accuracy: 0.9961\n",
            "Epoch 00038: ReduceLROnPlateau reducing learning rate to 0.00040960004553198815.\n",
            "\n",
            "Epoch 00038: val_loss did not improve from 0.01303\n",
            "2362/2362 [==============================] - 32s 13ms/step - loss: 0.0133 - accuracy: 0.9961 - val_loss: 0.0150 - val_accuracy: 0.9957\n",
            "Epoch 39/40\n",
            "2362/2362 [==============================] - ETA: 0s - loss: 0.0115 - accuracy: 0.9966\n",
            "Epoch 00039: val_loss did not improve from 0.01303\n",
            "2362/2362 [==============================] - 31s 13ms/step - loss: 0.0115 - accuracy: 0.9966 - val_loss: 0.0170 - val_accuracy: 0.9960\n",
            "Epoch 40/40\n",
            "2360/2362 [============================>.] - ETA: 0s - loss: 0.0117 - accuracy: 0.9963\n",
            "Epoch 00040: val_loss did not improve from 0.01303\n",
            "2362/2362 [==============================] - 32s 13ms/step - loss: 0.0117 - accuracy: 0.9963 - val_loss: 0.0177 - val_accuracy: 0.9964\n",
            "time: 21min 15s\n"
          ],
          "name": "stdout"
        }
      ]
    },
    {
      "cell_type": "code",
      "metadata": {
        "id": "V7kH02VodiTD",
        "outputId": "46ccb805-5754-4fb9-81c7-6e44659f8a1e",
        "colab": {
          "base_uri": "https://localhost:8080/",
          "height": 1000
        }
      },
      "source": [
        "#train model 3\n",
        "\n",
        "\n",
        "learning_rate_reduction = ReduceLROnPlateau(monitor='val_accuracy', \n",
        "                                            patience=5, \n",
        "                                            verbose=1, \n",
        "                                            factor=0.8, \n",
        "                                            min_lr=0.00001)\n",
        "\n",
        "epochs = 40\n",
        "batch_size = 16\n",
        "step_per_epoch = X_train.shape[0] // batch_size\n",
        "history_3 = model_3.fit_generator(datagen.flow(X_train,y_train, batch_size=batch_size), epochs = epochs, validation_data = (X_val,y_val), steps_per_epoch=step_per_epoch, callbacks=[learning_rate_reduction, mc_3])\n",
        "model_3.save(\"last_model_3.h5\")"
      ],
      "execution_count": 13,
      "outputs": [
        {
          "output_type": "stream",
          "text": [
            "Epoch 1/40\n",
            "2360/2362 [============================>.] - ETA: 0s - loss: 0.2581 - accuracy: 0.9201\n",
            "Epoch 00001: val_loss improved from inf to 0.04430, saving model to best_model_3.h5\n",
            "2362/2362 [==============================] - 35s 15ms/step - loss: 0.2581 - accuracy: 0.9200 - val_loss: 0.0443 - val_accuracy: 0.9857\n",
            "Epoch 2/40\n",
            "2362/2362 [==============================] - ETA: 0s - loss: 0.1205 - accuracy: 0.9646\n",
            "Epoch 00002: val_loss improved from 0.04430 to 0.04183, saving model to best_model_3.h5\n",
            "2362/2362 [==============================] - 32s 14ms/step - loss: 0.1205 - accuracy: 0.9646 - val_loss: 0.0418 - val_accuracy: 0.9869\n",
            "Epoch 3/40\n",
            "2359/2362 [============================>.] - ETA: 0s - loss: 0.0891 - accuracy: 0.9719\n",
            "Epoch 00003: val_loss improved from 0.04183 to 0.03970, saving model to best_model_3.h5\n",
            "2362/2362 [==============================] - 32s 14ms/step - loss: 0.0890 - accuracy: 0.9719 - val_loss: 0.0397 - val_accuracy: 0.9886\n",
            "Epoch 4/40\n",
            "2361/2362 [============================>.] - ETA: 0s - loss: 0.0746 - accuracy: 0.9775\n",
            "Epoch 00004: val_loss improved from 0.03970 to 0.03247, saving model to best_model_3.h5\n",
            "2362/2362 [==============================] - 32s 14ms/step - loss: 0.0746 - accuracy: 0.9776 - val_loss: 0.0325 - val_accuracy: 0.9881\n",
            "Epoch 5/40\n",
            "2360/2362 [============================>.] - ETA: 0s - loss: 0.0686 - accuracy: 0.9798\n",
            "Epoch 00005: val_loss improved from 0.03247 to 0.02677, saving model to best_model_3.h5\n",
            "2362/2362 [==============================] - 32s 14ms/step - loss: 0.0687 - accuracy: 0.9798 - val_loss: 0.0268 - val_accuracy: 0.9907\n",
            "Epoch 6/40\n",
            "2359/2362 [============================>.] - ETA: 0s - loss: 0.0627 - accuracy: 0.9808\n",
            "Epoch 00006: val_loss improved from 0.02677 to 0.01917, saving model to best_model_3.h5\n",
            "2362/2362 [==============================] - 33s 14ms/step - loss: 0.0629 - accuracy: 0.9807 - val_loss: 0.0192 - val_accuracy: 0.9936\n",
            "Epoch 7/40\n",
            "2359/2362 [============================>.] - ETA: 0s - loss: 0.0527 - accuracy: 0.9831\n",
            "Epoch 00007: val_loss did not improve from 0.01917\n",
            "2362/2362 [==============================] - 32s 13ms/step - loss: 0.0527 - accuracy: 0.9831 - val_loss: 0.0273 - val_accuracy: 0.9926\n",
            "Epoch 8/40\n",
            "2361/2362 [============================>.] - ETA: 0s - loss: 0.0490 - accuracy: 0.9857\n",
            "Epoch 00008: val_loss did not improve from 0.01917\n",
            "2362/2362 [==============================] - 32s 13ms/step - loss: 0.0491 - accuracy: 0.9857 - val_loss: 0.0225 - val_accuracy: 0.9929\n",
            "Epoch 9/40\n",
            "2359/2362 [============================>.] - ETA: 0s - loss: 0.0485 - accuracy: 0.9854\n",
            "Epoch 00009: val_loss improved from 0.01917 to 0.01904, saving model to best_model_3.h5\n",
            "2362/2362 [==============================] - 32s 14ms/step - loss: 0.0485 - accuracy: 0.9854 - val_loss: 0.0190 - val_accuracy: 0.9943\n",
            "Epoch 10/40\n",
            "2359/2362 [============================>.] - ETA: 0s - loss: 0.0461 - accuracy: 0.9860\n",
            "Epoch 00010: val_loss did not improve from 0.01904\n",
            "2362/2362 [==============================] - 32s 14ms/step - loss: 0.0461 - accuracy: 0.9860 - val_loss: 0.0192 - val_accuracy: 0.9936\n",
            "Epoch 11/40\n",
            "2361/2362 [============================>.] - ETA: 0s - loss: 0.0415 - accuracy: 0.9875\n",
            "Epoch 00011: val_loss improved from 0.01904 to 0.01470, saving model to best_model_3.h5\n",
            "2362/2362 [==============================] - 33s 14ms/step - loss: 0.0415 - accuracy: 0.9875 - val_loss: 0.0147 - val_accuracy: 0.9950\n",
            "Epoch 12/40\n",
            "2362/2362 [==============================] - ETA: 0s - loss: 0.0425 - accuracy: 0.9875\n",
            "Epoch 00012: val_loss did not improve from 0.01470\n",
            "2362/2362 [==============================] - 32s 14ms/step - loss: 0.0425 - accuracy: 0.9875 - val_loss: 0.0177 - val_accuracy: 0.9933\n",
            "Epoch 13/40\n",
            "2362/2362 [==============================] - ETA: 0s - loss: 0.0411 - accuracy: 0.9873\n",
            "Epoch 00013: val_loss did not improve from 0.01470\n",
            "2362/2362 [==============================] - 32s 14ms/step - loss: 0.0411 - accuracy: 0.9873 - val_loss: 0.0172 - val_accuracy: 0.9938\n",
            "Epoch 14/40\n",
            "2359/2362 [============================>.] - ETA: 0s - loss: 0.0368 - accuracy: 0.9889\n",
            "Epoch 00014: val_loss did not improve from 0.01470\n",
            "2362/2362 [==============================] - 32s 13ms/step - loss: 0.0368 - accuracy: 0.9889 - val_loss: 0.0176 - val_accuracy: 0.9936\n",
            "Epoch 15/40\n",
            "2361/2362 [============================>.] - ETA: 0s - loss: 0.0355 - accuracy: 0.9891\n",
            "Epoch 00015: val_loss did not improve from 0.01470\n",
            "2362/2362 [==============================] - 32s 13ms/step - loss: 0.0355 - accuracy: 0.9891 - val_loss: 0.0161 - val_accuracy: 0.9936\n",
            "Epoch 16/40\n",
            "2360/2362 [============================>.] - ETA: 0s - loss: 0.0348 - accuracy: 0.9892\n",
            "Epoch 00016: ReduceLROnPlateau reducing learning rate to 0.000800000037997961.\n",
            "\n",
            "Epoch 00016: val_loss did not improve from 0.01470\n",
            "2362/2362 [==============================] - 32s 14ms/step - loss: 0.0348 - accuracy: 0.9892 - val_loss: 0.0157 - val_accuracy: 0.9948\n",
            "Epoch 17/40\n",
            "2361/2362 [============================>.] - ETA: 0s - loss: 0.0305 - accuracy: 0.9909\n",
            "Epoch 00017: val_loss did not improve from 0.01470\n",
            "2362/2362 [==============================] - 32s 14ms/step - loss: 0.0305 - accuracy: 0.9909 - val_loss: 0.0151 - val_accuracy: 0.9952\n",
            "Epoch 18/40\n",
            "2362/2362 [==============================] - ETA: 0s - loss: 0.0286 - accuracy: 0.9909\n",
            "Epoch 00018: val_loss did not improve from 0.01470\n",
            "2362/2362 [==============================] - 32s 14ms/step - loss: 0.0286 - accuracy: 0.9909 - val_loss: 0.0179 - val_accuracy: 0.9945\n",
            "Epoch 19/40\n",
            "2362/2362 [==============================] - ETA: 0s - loss: 0.0271 - accuracy: 0.9922\n",
            "Epoch 00019: val_loss improved from 0.01470 to 0.01373, saving model to best_model_3.h5\n",
            "2362/2362 [==============================] - 33s 14ms/step - loss: 0.0271 - accuracy: 0.9922 - val_loss: 0.0137 - val_accuracy: 0.9950\n",
            "Epoch 20/40\n",
            "2362/2362 [==============================] - ETA: 0s - loss: 0.0266 - accuracy: 0.9922\n",
            "Epoch 00020: val_loss did not improve from 0.01373\n",
            "2362/2362 [==============================] - 33s 14ms/step - loss: 0.0266 - accuracy: 0.9922 - val_loss: 0.0146 - val_accuracy: 0.9943\n",
            "Epoch 21/40\n",
            "2361/2362 [============================>.] - ETA: 0s - loss: 0.0238 - accuracy: 0.9924\n",
            "Epoch 00021: val_loss did not improve from 0.01373\n",
            "2362/2362 [==============================] - 33s 14ms/step - loss: 0.0238 - accuracy: 0.9924 - val_loss: 0.0181 - val_accuracy: 0.9948\n",
            "Epoch 22/40\n",
            "2359/2362 [============================>.] - ETA: 0s - loss: 0.0253 - accuracy: 0.9926\n",
            "Epoch 00022: ReduceLROnPlateau reducing learning rate to 0.0006400000303983689.\n",
            "\n",
            "Epoch 00022: val_loss improved from 0.01373 to 0.01367, saving model to best_model_3.h5\n",
            "2362/2362 [==============================] - 33s 14ms/step - loss: 0.0254 - accuracy: 0.9926 - val_loss: 0.0137 - val_accuracy: 0.9945\n",
            "Epoch 23/40\n",
            "2359/2362 [============================>.] - ETA: 0s - loss: 0.0229 - accuracy: 0.9930\n",
            "Epoch 00023: val_loss did not improve from 0.01367\n",
            "2362/2362 [==============================] - 32s 14ms/step - loss: 0.0229 - accuracy: 0.9930 - val_loss: 0.0151 - val_accuracy: 0.9950\n",
            "Epoch 24/40\n",
            "2361/2362 [============================>.] - ETA: 0s - loss: 0.0198 - accuracy: 0.9945\n",
            "Epoch 00024: val_loss did not improve from 0.01367\n",
            "2362/2362 [==============================] - 33s 14ms/step - loss: 0.0198 - accuracy: 0.9945 - val_loss: 0.0155 - val_accuracy: 0.9948\n",
            "Epoch 25/40\n",
            "2361/2362 [============================>.] - ETA: 0s - loss: 0.0219 - accuracy: 0.9938\n",
            "Epoch 00025: val_loss did not improve from 0.01367\n",
            "2362/2362 [==============================] - 32s 14ms/step - loss: 0.0220 - accuracy: 0.9938 - val_loss: 0.0175 - val_accuracy: 0.9950\n",
            "Epoch 26/40\n",
            "2359/2362 [============================>.] - ETA: 0s - loss: 0.0199 - accuracy: 0.9937\n",
            "Epoch 00026: val_loss did not improve from 0.01367\n",
            "2362/2362 [==============================] - 33s 14ms/step - loss: 0.0199 - accuracy: 0.9937 - val_loss: 0.0148 - val_accuracy: 0.9950\n",
            "Epoch 27/40\n",
            "2360/2362 [============================>.] - ETA: 0s - loss: 0.0199 - accuracy: 0.9939\n",
            "Epoch 00027: ReduceLROnPlateau reducing learning rate to 0.0005120000336319208.\n",
            "\n",
            "Epoch 00027: val_loss did not improve from 0.01367\n",
            "2362/2362 [==============================] - 32s 14ms/step - loss: 0.0200 - accuracy: 0.9939 - val_loss: 0.0157 - val_accuracy: 0.9952\n",
            "Epoch 28/40\n",
            "2359/2362 [============================>.] - ETA: 0s - loss: 0.0185 - accuracy: 0.9944\n",
            "Epoch 00028: val_loss did not improve from 0.01367\n",
            "2362/2362 [==============================] - 32s 14ms/step - loss: 0.0185 - accuracy: 0.9944 - val_loss: 0.0151 - val_accuracy: 0.9957\n",
            "Epoch 29/40\n",
            "2359/2362 [============================>.] - ETA: 0s - loss: 0.0184 - accuracy: 0.9947\n",
            "Epoch 00029: val_loss did not improve from 0.01367\n",
            "2362/2362 [==============================] - 32s 14ms/step - loss: 0.0183 - accuracy: 0.9947 - val_loss: 0.0141 - val_accuracy: 0.9952\n",
            "Epoch 30/40\n",
            "2361/2362 [============================>.] - ETA: 0s - loss: 0.0171 - accuracy: 0.9949\n",
            "Epoch 00030: val_loss did not improve from 0.01367\n",
            "2362/2362 [==============================] - 32s 14ms/step - loss: 0.0171 - accuracy: 0.9949 - val_loss: 0.0166 - val_accuracy: 0.9933\n",
            "Epoch 31/40\n",
            "2360/2362 [============================>.] - ETA: 0s - loss: 0.0168 - accuracy: 0.9947\n",
            "Epoch 00031: val_loss did not improve from 0.01367\n",
            "2362/2362 [==============================] - 32s 14ms/step - loss: 0.0168 - accuracy: 0.9947 - val_loss: 0.0175 - val_accuracy: 0.9952\n",
            "Epoch 32/40\n",
            "2360/2362 [============================>.] - ETA: 0s - loss: 0.0166 - accuracy: 0.9950\n",
            "Epoch 00032: val_loss did not improve from 0.01367\n",
            "2362/2362 [==============================] - 32s 14ms/step - loss: 0.0166 - accuracy: 0.9950 - val_loss: 0.0191 - val_accuracy: 0.9948\n",
            "Epoch 33/40\n",
            "2359/2362 [============================>.] - ETA: 0s - loss: 0.0156 - accuracy: 0.9950\n",
            "Epoch 00033: ReduceLROnPlateau reducing learning rate to 0.00040960004553198815.\n",
            "\n",
            "Epoch 00033: val_loss did not improve from 0.01367\n",
            "2362/2362 [==============================] - 32s 14ms/step - loss: 0.0155 - accuracy: 0.9950 - val_loss: 0.0153 - val_accuracy: 0.9957\n",
            "Epoch 34/40\n",
            "2360/2362 [============================>.] - ETA: 0s - loss: 0.0138 - accuracy: 0.9958\n",
            "Epoch 00034: val_loss did not improve from 0.01367\n",
            "2362/2362 [==============================] - 33s 14ms/step - loss: 0.0138 - accuracy: 0.9958 - val_loss: 0.0148 - val_accuracy: 0.9952\n",
            "Epoch 35/40\n",
            "2360/2362 [============================>.] - ETA: 0s - loss: 0.0158 - accuracy: 0.9953\n",
            "Epoch 00035: val_loss did not improve from 0.01367\n",
            "2362/2362 [==============================] - 32s 14ms/step - loss: 0.0158 - accuracy: 0.9953 - val_loss: 0.0157 - val_accuracy: 0.9960\n",
            "Epoch 36/40\n",
            "2360/2362 [============================>.] - ETA: 0s - loss: 0.0133 - accuracy: 0.9957\n",
            "Epoch 00036: val_loss improved from 0.01367 to 0.01347, saving model to best_model_3.h5\n",
            "2362/2362 [==============================] - 33s 14ms/step - loss: 0.0133 - accuracy: 0.9957 - val_loss: 0.0135 - val_accuracy: 0.9950\n",
            "Epoch 37/40\n",
            "2359/2362 [============================>.] - ETA: 0s - loss: 0.0121 - accuracy: 0.9962\n",
            "Epoch 00037: val_loss improved from 0.01347 to 0.01222, saving model to best_model_3.h5\n",
            "2362/2362 [==============================] - 33s 14ms/step - loss: 0.0121 - accuracy: 0.9962 - val_loss: 0.0122 - val_accuracy: 0.9960\n",
            "Epoch 38/40\n",
            "2361/2362 [============================>.] - ETA: 0s - loss: 0.0125 - accuracy: 0.9965\n",
            "Epoch 00038: val_loss did not improve from 0.01222\n",
            "2362/2362 [==============================] - 32s 14ms/step - loss: 0.0125 - accuracy: 0.9965 - val_loss: 0.0162 - val_accuracy: 0.9952\n",
            "Epoch 39/40\n",
            "2361/2362 [============================>.] - ETA: 0s - loss: 0.0117 - accuracy: 0.9961\n",
            "Epoch 00039: val_loss did not improve from 0.01222\n",
            "2362/2362 [==============================] - 33s 14ms/step - loss: 0.0117 - accuracy: 0.9961 - val_loss: 0.0146 - val_accuracy: 0.9945\n",
            "Epoch 40/40\n",
            "2359/2362 [============================>.] - ETA: 0s - loss: 0.0129 - accuracy: 0.9962\n",
            "Epoch 00040: ReduceLROnPlateau reducing learning rate to 0.00032768002711236477.\n",
            "\n",
            "Epoch 00040: val_loss did not improve from 0.01222\n",
            "2362/2362 [==============================] - 32s 14ms/step - loss: 0.0129 - accuracy: 0.9962 - val_loss: 0.0143 - val_accuracy: 0.9955\n",
            "time: 21min 41s\n"
          ],
          "name": "stdout"
        }
      ]
    },
    {
      "cell_type": "code",
      "metadata": {
        "id": "ZvknMLhEVov8",
        "outputId": "572f4df7-4466-49f4-9339-b1d02ed5ec6f",
        "colab": {
          "base_uri": "https://localhost:8080/",
          "height": 313
        }
      },
      "source": [
        "#plot model acc 1\n",
        "\n",
        "plt.plot(history_1.history['accuracy'])\n",
        "plt.plot(history_1.history['val_accuracy'])\n",
        "plt.title('model_1 accuracy')\n",
        "plt.ylabel('accuracy')\n",
        "plt.xlabel('epoch')\n",
        "plt.legend(['train', 'val'], loc='upper left')\n",
        "plt.show()"
      ],
      "execution_count": 14,
      "outputs": [
        {
          "output_type": "display_data",
          "data": {
            "image/png": "[encoded data removed]",
            "text/plain": [
              "<Figure size 432x288 with 1 Axes>"
            ]
          },
          "metadata": {
            "tags": [],
            "needs_background": "light"
          }
        },
        {
          "output_type": "stream",
          "text": [
            "time: 204 ms\n"
          ],
          "name": "stdout"
        }
      ]
    },
    {
      "cell_type": "code",
      "metadata": {
        "id": "bR8RyGTYV0Ap",
        "outputId": "0904eb80-ee0a-4581-8462-25c0acf37d94",
        "colab": {
          "base_uri": "https://localhost:8080/",
          "height": 313
        }
      },
      "source": [
        "#plot model acc 2\n",
        "\n",
        "plt.plot(history_2.history['accuracy'])\n",
        "plt.plot(history_2.history['val_accuracy'])\n",
        "plt.title('model_2 accuracy')\n",
        "plt.ylabel('accuracy')\n",
        "plt.xlabel('epoch')\n",
        "plt.legend(['train', 'val'], loc='upper left')\n",
        "plt.show()"
      ],
      "execution_count": 15,
      "outputs": [
        {
          "output_type": "display_data",
          "data": {
            "image/png": "[encoded data removed]",
            "text/plain": [
              "<Figure size 432x288 with 1 Axes>"
            ]
          },
          "metadata": {
            "tags": [],
            "needs_background": "light"
          }
        },
        {
          "output_type": "stream",
          "text": [
            "time: 214 ms\n"
          ],
          "name": "stdout"
        }
      ]
    },
    {
      "cell_type": "code",
      "metadata": {
        "id": "XP4idO8pV1qc",
        "outputId": "4a19809e-5075-4df7-ecdf-f20ffc173fbb",
        "colab": {
          "base_uri": "https://localhost:8080/",
          "height": 313
        }
      },
      "source": [
        "#plot model acc 3\n",
        "\n",
        "plt.plot(history_3.history['accuracy'])\n",
        "plt.plot(history_3.history['val_accuracy'])\n",
        "plt.title('model_3 accuracy')\n",
        "plt.ylabel('accuracy')\n",
        "plt.xlabel('epoch')\n",
        "plt.legend(['train', 'val'], loc='upper left')\n",
        "plt.show()"
      ],
      "execution_count": 16,
      "outputs": [
        {
          "output_type": "display_data",
          "data": {
            "image/png": "[encoded data removed]",
            "text/plain": [
              "<Figure size 432x288 with 1 Axes>"
            ]
          },
          "metadata": {
            "tags": [],
            "needs_background": "light"
          }
        },
        {
          "output_type": "stream",
          "text": [
            "time: 235 ms\n"
          ],
          "name": "stdout"
        }
      ]
    },
    {
      "cell_type": "code",
      "metadata": {
        "id": "yzrCRzt9V3NM",
        "outputId": "c054dc3f-033c-492d-fe6b-9ebe216b3bd9",
        "colab": {
          "base_uri": "https://localhost:8080/",
          "height": 35
        }
      },
      "source": [
        "#function to vote the result\n",
        "\n",
        "def lets_vote(ans_1,ans_2,ans_3):\n",
        "\n",
        "  list_ans = [ans_1,ans_2,ans_3]\n",
        "\n",
        "  counter = 0\n",
        "  num = list_ans[0] \n",
        "\n",
        "  for i in list_ans: \n",
        "        curr_frequency = list_ans.count(i) \n",
        "        if(curr_frequency> counter): \n",
        "            counter = curr_frequency \n",
        "            num = i \n",
        "\n",
        "  return num"
      ],
      "execution_count": 17,
      "outputs": [
        {
          "output_type": "stream",
          "text": [
            "time: 5.79 ms\n"
          ],
          "name": "stdout"
        }
      ]
    },
    {
      "cell_type": "code",
      "metadata": {
        "id": "M22qjeJeWDiU",
        "outputId": "3863dc3a-d0ae-44fd-a026-e413be81498a",
        "colab": {
          "base_uri": "https://localhost:8080/",
          "height": 35
        }
      },
      "source": [
        "#predict model 1 2 3\n",
        "\n",
        "# model_1.load_weights('last_model_1.h5')\n",
        "# model_2.load_weights('last_model_2.h5')\n",
        "# model_3.load_weights('last_model_3.h5')\n",
        "\n",
        "model_1.load_weights('best_model_1.h5')\n",
        "model_2.load_weights('best_model_2.h5')\n",
        "model_3.load_weights('best_model_3.h5')\n",
        "\n",
        "result = model_1.predict(X_test)\n",
        "result_1 = np.argmax(result,axis=1)\n",
        "# result_1 = pd.Series(result_1,name='Label')\n",
        "\n",
        "result = model_2.predict(X_test)\n",
        "result_2 = np.argmax(result,axis=1)\n",
        "# # result_2 = pd.Series(result_2,name='Label')\n",
        "\n",
        "result = model_3.predict(X_test)\n",
        "result_3 = np.argmax(result,axis=1)\n",
        "# # result_3 = pd.Series(result_3,name='Label')"
      ],
      "execution_count": 21,
      "outputs": [
        {
          "output_type": "stream",
          "text": [
            "time: 10.4 s\n"
          ],
          "name": "stdout"
        }
      ]
    },
    {
      "cell_type": "code",
      "metadata": {
        "id": "BdbnNBRq0gSy",
        "outputId": "cfa07418-d491-4e4d-8b76-a548582ec239",
        "colab": {
          "base_uri": "https://localhost:8080/",
          "height": 35
        }
      },
      "source": [
        "ans = list()\n",
        "for i in range(nbr_test):\n",
        "  ans_1 = result_1[i]\n",
        "  ans_2 = result_2[i]\n",
        "  ans_3 = result_3[i]\n",
        "\n",
        "  voted_ans = lets_vote(ans_2,ans_1,ans_3)\n",
        "  ans.append(voted_ans)\n",
        "ans = np.array(ans)\n",
        "if len(ans) != nbr_test:\n",
        "  print('Something WRONG!!!')\n",
        "results = pd.Series(ans,name='Label')"
      ],
      "execution_count": 22,
      "outputs": [
        {
          "output_type": "stream",
          "text": [
            "time: 64 ms\n"
          ],
          "name": "stdout"
        }
      ]
    },
    {
      "cell_type": "code",
      "metadata": {
        "id": "mkw_resmWncp",
        "outputId": "870334b9-6955-4910-d93b-aae9ea8b80dc",
        "colab": {
          "base_uri": "https://localhost:8080/",
          "height": 35
        }
      },
      "source": [
        "#create submission\n",
        "\n",
        "submission = pd.concat([pd.Series(range(1,nbr_test+1),name = \"ImageId\"),results],axis = 1)\n",
        "submission.to_csv(\"submission.csv\",index=False)"
      ],
      "execution_count": 23,
      "outputs": [
        {
          "output_type": "stream",
          "text": [
            "time: 50.4 ms\n"
          ],
          "name": "stdout"
        }
      ]
    },
    {
      "cell_type": "code",
      "metadata": {
        "id": "93D1ptdK7MwI",
        "outputId": "5e2af39f-e302-4437-b105-ee78603fd47f",
        "colab": {
          "base_uri": "https://localhost:8080/",
          "height": 34
        }
      },
      "source": [
        "# model_1.save(\"best_model_1.h5\")\n",
        "# model_2.save(\"best_model_2.h5\")\n",
        "# model_3.save(\"best_model_3.h5\")"
      ],
      "execution_count": null,
      "outputs": [
        {
          "output_type": "stream",
          "text": [
            "time: 1.7 s\n"
          ],
          "name": "stdout"
        }
      ]
    },
    {
      "cell_type": "code",
      "metadata": {
        "id": "xRSgESpOpa7x",
        "outputId": "b3f2f5b6-573a-4893-e2a9-582513190de8",
        "colab": {
          "base_uri": "https://localhost:8080/",
          "height": 101
        }
      },
      "source": [
        "# files.download(\"submission.csv\")\n",
        "# files.download(\"best_model_1.h5\")\n",
        "# files.download(\"best_model_2.h5\")\n",
        "# files.download(\"best_model_3.h5\")\n",
        "\n"
      ],
      "execution_count": null,
      "outputs": [
        {
          "output_type": "display_data",
          "data": {
            "application/javascript": [
              "\n",
              "    async function download(id, filename, size) {\n",
              "      if (!google.colab.kernel.accessAllowed) {\n",
              "        return;\n",
              "      }\n",
              "      const div = document.createElement('div');\n",
              "      const label = document.createElement('label');\n",
              "      label.textContent = `Downloading \"${filename}\": `;\n",
              "      div.appendChild(label);\n",
              "      const progress = document.createElement('progress');\n",
              "      progress.max = size;\n",
              "      div.appendChild(progress);\n",
              "      document.body.appendChild(div);\n",
              "\n",
              "      const buffers = [];\n",
              "      let downloaded = 0;\n",
              "\n",
              "      const channel = await google.colab.kernel.comms.open(id);\n",
              "      // Send a message to notify the kernel that we're ready.\n",
              "      channel.send({})\n",
              "\n",
              "      for await (const message of channel.messages) {\n",
              "        // Send a message to notify the kernel that we're ready.\n",
              "        channel.send({})\n",
              "        if (message.buffers) {\n",
              "          for (const buffer of message.buffers) {\n",
              "            buffers.push(buffer);\n",
              "            downloaded += buffer.byteLength;\n",
              "            progress.value = downloaded;\n",
              "          }\n",
              "        }\n",
              "      }\n",
              "      const blob = new Blob(buffers, {type: 'application/binary'});\n",
              "      const a = document.createElement('a');\n",
              "      a.href = window.URL.createObjectURL(blob);\n",
              "      a.download = filename;\n",
              "      div.appendChild(a);\n",
              "      a.click();\n",
              "      div.remove();\n",
              "    }\n",
              "  "
            ],
            "text/plain": [
              "<IPython.core.display.Javascript object>"
            ]
          },
          "metadata": {
            "tags": []
          }
        },
        {
          "output_type": "display_data",
          "data": {
            "application/javascript": [
              "download(\"download_30ec5d3e-a1b8-4484-955b-e67eaac7d5a4\", \"submission.csv\", 212908)"
            ],
            "text/plain": [
              "<IPython.core.display.Javascript object>"
            ]
          },
          "metadata": {
            "tags": []
          }
        },
        {
          "output_type": "display_data",
          "data": {
            "application/javascript": [
              "\n",
              "    async function download(id, filename, size) {\n",
              "      if (!google.colab.kernel.accessAllowed) {\n",
              "        return;\n",
              "      }\n",
              "      const div = document.createElement('div');\n",
              "      const label = document.createElement('label');\n",
              "      label.textContent = `Downloading \"${filename}\": `;\n",
              "      div.appendChild(label);\n",
              "      const progress = document.createElement('progress');\n",
              "      progress.max = size;\n",
              "      div.appendChild(progress);\n",
              "      document.body.appendChild(div);\n",
              "\n",
              "      const buffers = [];\n",
              "      let downloaded = 0;\n",
              "\n",
              "      const channel = await google.colab.kernel.comms.open(id);\n",
              "      // Send a message to notify the kernel that we're ready.\n",
              "      channel.send({})\n",
              "\n",
              "      for await (const message of channel.messages) {\n",
              "        // Send a message to notify the kernel that we're ready.\n",
              "        channel.send({})\n",
              "        if (message.buffers) {\n",
              "          for (const buffer of message.buffers) {\n",
              "            buffers.push(buffer);\n",
              "            downloaded += buffer.byteLength;\n",
              "            progress.value = downloaded;\n",
              "          }\n",
              "        }\n",
              "      }\n",
              "      const blob = new Blob(buffers, {type: 'application/binary'});\n",
              "      const a = document.createElement('a');\n",
              "      a.href = window.URL.createObjectURL(blob);\n",
              "      a.download = filename;\n",
              "      div.appendChild(a);\n",
              "      a.click();\n",
              "      div.remove();\n",
              "    }\n",
              "  "
            ],
            "text/plain": [
              "<IPython.core.display.Javascript object>"
            ]
          },
          "metadata": {
            "tags": []
          }
        },
        {
          "output_type": "display_data",
          "data": {
            "application/javascript": [
              "download(\"download_fc3daccb-7862-4d6f-98d8-e8da1664d7c4\", \"best_model_1.h5\", 10713592)"
            ],
            "text/plain": [
              "<IPython.core.display.Javascript object>"
            ]
          },
          "metadata": {
            "tags": []
          }
        },
        {
          "output_type": "display_data",
          "data": {
            "application/javascript": [
              "\n",
              "    async function download(id, filename, size) {\n",
              "      if (!google.colab.kernel.accessAllowed) {\n",
              "        return;\n",
              "      }\n",
              "      const div = document.createElement('div');\n",
              "      const label = document.createElement('label');\n",
              "      label.textContent = `Downloading \"${filename}\": `;\n",
              "      div.appendChild(label);\n",
              "      const progress = document.createElement('progress');\n",
              "      progress.max = size;\n",
              "      div.appendChild(progress);\n",
              "      document.body.appendChild(div);\n",
              "\n",
              "      const buffers = [];\n",
              "      let downloaded = 0;\n",
              "\n",
              "      const channel = await google.colab.kernel.comms.open(id);\n",
              "      // Send a message to notify the kernel that we're ready.\n",
              "      channel.send({})\n",
              "\n",
              "      for await (const message of channel.messages) {\n",
              "        // Send a message to notify the kernel that we're ready.\n",
              "        channel.send({})\n",
              "        if (message.buffers) {\n",
              "          for (const buffer of message.buffers) {\n",
              "            buffers.push(buffer);\n",
              "            downloaded += buffer.byteLength;\n",
              "            progress.value = downloaded;\n",
              "          }\n",
              "        }\n",
              "      }\n",
              "      const blob = new Blob(buffers, {type: 'application/binary'});\n",
              "      const a = document.createElement('a');\n",
              "      a.href = window.URL.createObjectURL(blob);\n",
              "      a.download = filename;\n",
              "      div.appendChild(a);\n",
              "      a.click();\n",
              "      div.remove();\n",
              "    }\n",
              "  "
            ],
            "text/plain": [
              "<IPython.core.display.Javascript object>"
            ]
          },
          "metadata": {
            "tags": []
          }
        },
        {
          "output_type": "display_data",
          "data": {
            "application/javascript": [
              "download(\"download_904a3d66-152a-4719-b3c7-a3fdcff70a42\", \"best_model_2.h5\", 4684640)"
            ],
            "text/plain": [
              "<IPython.core.display.Javascript object>"
            ]
          },
          "metadata": {
            "tags": []
          }
        },
        {
          "output_type": "display_data",
          "data": {
            "application/javascript": [
              "\n",
              "    async function download(id, filename, size) {\n",
              "      if (!google.colab.kernel.accessAllowed) {\n",
              "        return;\n",
              "      }\n",
              "      const div = document.createElement('div');\n",
              "      const label = document.createElement('label');\n",
              "      label.textContent = `Downloading \"${filename}\": `;\n",
              "      div.appendChild(label);\n",
              "      const progress = document.createElement('progress');\n",
              "      progress.max = size;\n",
              "      div.appendChild(progress);\n",
              "      document.body.appendChild(div);\n",
              "\n",
              "      const buffers = [];\n",
              "      let downloaded = 0;\n",
              "\n",
              "      const channel = await google.colab.kernel.comms.open(id);\n",
              "      // Send a message to notify the kernel that we're ready.\n",
              "      channel.send({})\n",
              "\n",
              "      for await (const message of channel.messages) {\n",
              "        // Send a message to notify the kernel that we're ready.\n",
              "        channel.send({})\n",
              "        if (message.buffers) {\n",
              "          for (const buffer of message.buffers) {\n",
              "            buffers.push(buffer);\n",
              "            downloaded += buffer.byteLength;\n",
              "            progress.value = downloaded;\n",
              "          }\n",
              "        }\n",
              "      }\n",
              "      const blob = new Blob(buffers, {type: 'application/binary'});\n",
              "      const a = document.createElement('a');\n",
              "      a.href = window.URL.createObjectURL(blob);\n",
              "      a.download = filename;\n",
              "      div.appendChild(a);\n",
              "      a.click();\n",
              "      div.remove();\n",
              "    }\n",
              "  "
            ],
            "text/plain": [
              "<IPython.core.display.Javascript object>"
            ]
          },
          "metadata": {
            "tags": []
          }
        },
        {
          "output_type": "display_data",
          "data": {
            "application/javascript": [
              "download(\"download_20b36290-ad61-4484-b4a5-3d753e7adad5\", \"best_model_3.h5\", 12394224)"
            ],
            "text/plain": [
              "<IPython.core.display.Javascript object>"
            ]
          },
          "metadata": {
            "tags": []
          }
        },
        {
          "output_type": "stream",
          "text": [
            "time: 15.7 ms\n"
          ],
          "name": "stdout"
        }
      ]
    },
    {
      "cell_type": "code",
      "metadata": {
        "id": "sJeUZM3JPaKs"
      },
      "source": [
        ""
      ],
      "execution_count": null,
      "outputs": []
    }
  ]
}